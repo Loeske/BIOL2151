{
 "cells": [
  {
   "cell_type": "markdown",
   "metadata": {},
   "source": [
    "## BIOL2151 – 2019 Assignment 4 : Genetics of Complex Traits\n",
    "\n",
    "### Estimating the heritability of human height"
   ]
  },
  {
   "cell_type": "markdown",
   "metadata": {},
   "source": [
    "In this exercise you will calculate some of the statistics used to describe the genetic basis of complex traits.  The data you will use are a subset of a larger data-set collected on height of biology undergraduate students and their parents. \n",
    "\n",
    "This Jupyter notebook contains a set of R commands, which will run from a virtual server. (Alternatively, you can work through the assignment in RStudio if you have it loaded on your own computer, or on one of the uni computers in the practical labs.)\n",
    "\n",
    "*** IMPORTANT: Please note that (annoyingly) the virtual server times out if there is no activity of any form after 5 minutes (we were hoping to get this fixed in time). You therefore need to remember to at least click on some cell in it every few minutes. You can save a version and then recover it, but it's fiddly: \n",
    "On the File menu in the Jupyter notebook (not on the browser menu at the top), click 'Download as' > Notebook, and choose Save File. The file will then be in your downloads folder (or visible under the downloads arrow at the top right). You then need to start the virtual server again by pasting in the link https://mybinder.org/v2/gh/Loeske/BIOL2151/master?filepath=BIOL2151.ipynb, and to recover your saved version go to File>Open, which brings up a directory. In the top right corner of this page, click the Upload button and navigate to your downloaded file; click Upload. This will add it to your directory; click the Upload button that appears to its right, and then finally click on the file name. (The easier option is just to make sure it doesn't time out!)***\n",
    "\n",
    "To run a command box, place the cursor in the box, and press Shift-Enter.\n",
    "\n",
    "When you're finished working through the commands here, you want to print the whole thing to a pdf. Go to File on the drop-down menu of the Jupyter Notebook, and choose Print Preview (to check it's formatted properly). This will bring up the file in a separate tab. From there, go to File on the *browser* menu (far top left) and go to Print, and then choose 'Print to pdf'.\n",
    "\n",
    "This is the first time we've tried the virtual server, so let me know any issues or suggestions!\n",
    "\n",
    "First of all, start by pressing Shift-Enter on the box immediately below with the command 'options...', which just sets dimensions of figures."
   ]
  },
  {
   "cell_type": "code",
   "execution_count": null,
   "metadata": {},
   "outputs": [],
   "source": [
    "options(repr.plot.width=5, repr.plot.height=4)"
   ]
  },
  {
   "cell_type": "markdown",
   "metadata": {},
   "source": [
    "Using the commands below, read the data in to a data-set with the name ‘heights’ and then have a look at it. Each value in the Mid.parent column (P) represents the average height for a specific pair of male and female parents in cm ('Mid.parent').  The values in the 'Offspring' column give the offspring (student’s) height in cm."
   ]
  },
  {
   "cell_type": "code",
   "execution_count": null,
   "metadata": {},
   "outputs": [],
   "source": [
    "heights<-read.csv('data.csv',header=T)\n",
    "heights"
   ]
  },
  {
   "cell_type": "markdown",
   "metadata": {},
   "source": [
    "The data set is called 'heights', and you can refer to each of its columns by, e.g., heights$Mid.parent. Each value in the Mid.parent column (P) represents the average height for a specific pair of male and female parents in cm ('Mid.parent').  The values in the 'Offspring' column give the offspring (student’s) height in cm."
   ]
  },
  {
   "cell_type": "markdown",
   "metadata": {},
   "source": [
    "### Q1. Data visualisation"
   ]
  },
  {
   "cell_type": "markdown",
   "metadata": {},
   "source": [
    "Start by looking at the data, to get an impression of the relationship between offspring and parents.\n",
    "First, plot histograms of the frequency of different values for each trait."
   ]
  },
  {
   "cell_type": "code",
   "execution_count": null,
   "metadata": {},
   "outputs": [],
   "source": [
    "hist(heights$Mid.parent,nclass=5)\n",
    "hist(heights$Offspring)"
   ]
  },
  {
   "cell_type": "markdown",
   "metadata": {},
   "source": [
    "Then plot the relationship between offspring and mid-parent height, with parental values on the x-axis and offspring values on the y axis. \n",
    "{In R, 'Y against X' is represented with the '~' sign, i.e. 'Y~X'. The command below also tells R what labels to use for the axes.}"
   ]
  },
  {
   "cell_type": "code",
   "execution_count": null,
   "metadata": {},
   "outputs": [],
   "source": [
    "plot(Offspring~Mid.parent,data=heights,xlab='Mid-parent height (cm)',ylab='Offspring height (cm)')"
   ]
  },
  {
   "cell_type": "markdown",
   "metadata": {},
   "source": [
    "a. Describe the relationship in words. Are there any individual points you would want to pay particular attention to?\n",
    "(Enter your text in the box below and then press Shift-Enter.)"
   ]
  },
  {
   "cell_type": "markdown",
   "metadata": {},
   "source": []
  },
  {
   "cell_type": "markdown",
   "metadata": {},
   "source": [
    "b. Just from looking at the graph (i.e. without doing any calculations!), what would you predict qualitatively about\n",
    "whether height is a heritable trait?"
   ]
  },
  {
   "cell_type": "code",
   "execution_count": null,
   "metadata": {},
   "outputs": [],
   "source": []
  },
  {
   "cell_type": "markdown",
   "metadata": {},
   "source": [
    "c. We will use the data plotted above to estimate the heritability of height in this sample. Describe in one sentence what is the meant by the 'heritability' of a trait."
   ]
  },
  {
   "cell_type": "markdown",
   "metadata": {},
   "source": [
    "### Q2. Calculating the key statistics"
   ]
  },
  {
   "cell_type": "markdown",
   "metadata": {},
   "source": [
    "a. First calculate the mean value of the mid-parent height column."
   ]
  },
  {
   "cell_type": "code",
   "execution_count": null,
   "metadata": {},
   "outputs": [],
   "source": [
    "mean(heights$Mid.parent)"
   ]
  },
  {
   "cell_type": "markdown",
   "metadata": {},
   "source": [
    "b. Now calculate the mean value of the offspring height (you need to work out the command!)."
   ]
  },
  {
   "cell_type": "code",
   "execution_count": null,
   "metadata": {},
   "outputs": [],
   "source": []
  },
  {
   "cell_type": "markdown",
   "metadata": {},
   "source": [
    "c. Give TWO reasons why the sample of offspring might have a different mean for height than the sample of parents."
   ]
  },
  {
   "cell_type": "markdown",
   "metadata": {},
   "source": [
    " "
   ]
  },
  {
   "cell_type": "markdown",
   "metadata": {},
   "source": [
    "d. Calculate the variance of height in the mid-parent values.\n",
    "(The command 'var' gives the *variance* of a sample.)"
   ]
  },
  {
   "cell_type": "code",
   "execution_count": null,
   "metadata": {},
   "outputs": [],
   "source": [
    "var(heights$Mid.parent)"
   ]
  },
  {
   "cell_type": "markdown",
   "metadata": {},
   "source": [
    "Remember what the variance is telling you: the average distance (squared) of each point from the mean. So the more the 'spread' in the data, the further the points from the mean, and the greater the variance.\n",
    "\n",
    "e. Check that the value R gave you is the same as if you had calculated it manually, i.e first take the deviation of each value from the mean (and check what it look like):"
   ]
  },
  {
   "cell_type": "code",
   "execution_count": null,
   "metadata": {},
   "outputs": [],
   "source": [
    "heights$MidPar.deviation <- heights$Mid.parent - mean(heights$Mid.parent)\n",
    "print(heights$MidPar.deviation)"
   ]
  },
  {
   "cell_type": "markdown",
   "metadata": {},
   "source": [
    "... then square these deviations (so they're all positive)..."
   ]
  },
  {
   "cell_type": "code",
   "execution_count": null,
   "metadata": {},
   "outputs": [],
   "source": [
    "print(heights$MidPar.deviation^2)"
   ]
  },
  {
   "cell_type": "markdown",
   "metadata": {},
   "source": [
    "And finally, take the average of these squared deviations:"
   ]
  },
  {
   "cell_type": "code",
   "execution_count": null,
   "metadata": {},
   "outputs": [],
   "source": [
    "sum(heights$MidPar.deviation^2)/9"
   ]
  },
  {
   "cell_type": "markdown",
   "metadata": {},
   "source": [
    "(Note that we actually divide by 9 rather than the sample size 10. The formula for a variance for a sample of size n is\n",
    "    (sigma (x_i - xbar)^2 / n-1)"
   ]
  },
  {
   "cell_type": "markdown",
   "metadata": {},
   "source": [
    "g. Now estimate the *covariance* of the parents and offspring. \n",
    "Reminder: The covariance is a measure of the similarity of two columns of data: it asks if rows that have relatively high values for one trait also have relatively high values for the other, and conversely if relatively small values also go together. It does this by multiplying the deviations of each value from the average: if both deviations are positive, their product will be positive; if both are negative, their product will also be positive (multiplying two negative numbers gives a positive!). \n",
    "{Converesly, if two columns have an antagonistic relationship, high for one means low for the other, so the product will be of a positive * negative or negative * positive, both of which are negative - so you get a negative value.}"
   ]
  },
  {
   "cell_type": "code",
   "execution_count": null,
   "metadata": {},
   "outputs": [],
   "source": [
    "cov(heights$Mid.parent,heights$Offspring)"
   ]
  },
  {
   "cell_type": "markdown",
   "metadata": {},
   "source": [
    "Check that this is the same as the average of the product of their deviations for both MidParent and Offspring values. You've already calculated the deviations for the MidParents above, now do the same for the Offspring: "
   ]
  },
  {
   "cell_type": "code",
   "execution_count": null,
   "metadata": {},
   "outputs": [],
   "source": [
    "heights$Offspr.dev <- heights$Offspring - mean(heights$Offspring)"
   ]
  },
  {
   "cell_type": "markdown",
   "metadata": {},
   "source": [
    "Then calculate the product of the deviations, and find the average of the product (i.e. sum and divide by number):"
   ]
  },
  {
   "cell_type": "code",
   "execution_count": null,
   "metadata": {},
   "outputs": [],
   "source": [
    "heights$Product.dev<-heights$MidPar.deviation * heights$Offspr.dev \n",
    "sum(heights$Product.dev)/9  "
   ]
  },
  {
   "cell_type": "markdown",
   "metadata": {},
   "source": [
    "### Q3. Heritability of human height in this data-set "
   ]
  },
  {
   "cell_type": "markdown",
   "metadata": {},
   "source": [
    "We will get an estimate of the heritability of height in this data-set using a \"parent-offspring regression\".\n",
    "\n",
    "The slope of a regression is given by the formula: \n",
    "slope = covariance(parents,offspring)/variance(parents).\n",
    "\n",
    "Estimate the slope from this formula using the values you calculated above."
   ]
  },
  {
   "cell_type": "markdown",
   "metadata": {},
   "source": [
    " "
   ]
  },
  {
   "cell_type": "markdown",
   "metadata": {},
   "source": [
    "Now calculate the slope by getting R to fit a regression model:"
   ]
  },
  {
   "cell_type": "code",
   "execution_count": null,
   "metadata": {},
   "outputs": [],
   "source": [
    "model<-lm(Offspring~Mid.parent,data=heights)   # this fits a linear regression, telling R to use the data 'heights'\n",
    "plot(Offspring~Mid.parent,data=heights)\n",
    "abline(model)"
   ]
  },
  {
   "cell_type": "markdown",
   "metadata": {},
   "source": [
    "This is the full output of the model:"
   ]
  },
  {
   "cell_type": "code",
   "execution_count": null,
   "metadata": {},
   "outputs": [],
   "source": [
    "summary(model)"
   ]
  },
  {
   "cell_type": "markdown",
   "metadata": {},
   "source": [
    "It fits a line of the form y = a + b * x, where the y variable is Offspring height and the x varialbe is Mid.parent height.\n",
    "For this line, a is the Intercept in the above output, and b is the slope coefficient next to Mid.parent.\n",
    "\n",
    "You can ask it to print just the slope of the regression using the code:"
   ]
  },
  {
   "cell_type": "code",
   "execution_count": null,
   "metadata": {},
   "outputs": [],
   "source": [
    "slope <- summary(model)$coeff[2,1]\n",
    "print(slope)"
   ]
  },
  {
   "cell_type": "markdown",
   "metadata": {},
   "source": [
    "This is more meaningful if we get R to round down to a sensible number of decimal places:"
   ]
  },
  {
   "cell_type": "code",
   "execution_count": null,
   "metadata": {},
   "outputs": [],
   "source": [
    "round(slope,3)"
   ]
  },
  {
   "cell_type": "markdown",
   "metadata": {},
   "source": [
    "c. Based on these calculations, what is the estimate of the heritability of human height from this sample?"
   ]
  },
  {
   "cell_type": "code",
   "execution_count": null,
   "metadata": {},
   "outputs": [],
   "source": []
  },
  {
   "cell_type": "markdown",
   "metadata": {},
   "source": [
    "d. Give an interpretation in one sentence of your result."
   ]
  },
  {
   "cell_type": "markdown",
   "metadata": {},
   "source": [
    " "
   ]
  },
  {
   "cell_type": "markdown",
   "metadata": {},
   "source": [
    "e. Now calculate the heritability without the outlier point.\n",
    "The first command creates a new data-set minus the row with the outlier point. Use this new data-set ('heights.version2') and re-run the relevant commands above to get a second estimate of heritability."
   ]
  },
  {
   "cell_type": "code",
   "execution_count": null,
   "metadata": {},
   "outputs": [],
   "source": [
    "heights.version2<-heights[-6,]\n",
    "\n",
    "# now enter commands to estimate heritability from heights.version2"
   ]
  },
  {
   "cell_type": "markdown",
   "metadata": {},
   "source": [
    "### Q4.  Some general considerations when estimating the heritability of human height"
   ]
  },
  {
   "cell_type": "markdown",
   "metadata": {},
   "source": [
    "a.\tCan you think of THREE other variables you might want to be able to consider (and hence correct for) in a study of the heritability of human height?"
   ]
  },
  {
   "cell_type": "code",
   "execution_count": null,
   "metadata": {},
   "outputs": [],
   "source": []
  },
  {
   "cell_type": "markdown",
   "metadata": {},
   "source": [
    "b. A different study of human height based on calculating variance between 4000 families of full siblings gave an estimate of heritability of 70%.\n",
    "\n",
    "Outline THREE factors that might contribute to the differences in estimates of heritability from the data here versus the full-sibling study."
   ]
  },
  {
   "cell_type": "code",
   "execution_count": null,
   "metadata": {},
   "outputs": [],
   "source": []
  }
 ],
 "metadata": {
  "kernelspec": {
   "display_name": "R",
   "language": "R",
   "name": "ir"
  },
  "language_info": {
   "codemirror_mode": "r",
   "file_extension": ".r",
   "mimetype": "text/x-r-source",
   "name": "R",
   "pygments_lexer": "r",
   "version": "3.5.1"
  }
 },
 "nbformat": 4,
 "nbformat_minor": 2
}
