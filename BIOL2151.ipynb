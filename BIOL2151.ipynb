{
 "cells": [
  {
   "cell_type": "markdown",
   "metadata": {},
   "source": []
  },
  {
   "cell_type": "code",
   "execution_count": 3,
   "metadata": {},
   "outputs": [],
   "source": [
    "options(repr.plot.width=5, repr.plot.height=4)"
   ]
  },
  {
   "cell_type": "markdown",
   "metadata": {},
   "source": []
  },
  {
   "cell_type": "code",
   "execution_count": 4,
   "metadata": {},
   "outputs": [
    {
     "data": {
      "text/html": [
       "<table>\n",
       "<thead><tr><th scope=col>ï..Family</th><th scope=col>Mid.parent</th><th scope=col>Offspring</th></tr></thead>\n",
       "<tbody>\n",
       "\t<tr><td> 1 </td><td>175</td><td>180</td></tr>\n",
       "\t<tr><td> 2 </td><td>174</td><td>173</td></tr>\n",
       "\t<tr><td> 3 </td><td>176</td><td>175</td></tr>\n",
       "\t<tr><td> 4 </td><td>177</td><td>183</td></tr>\n",
       "\t<tr><td> 5 </td><td>179</td><td>178</td></tr>\n",
       "\t<tr><td> 6 </td><td>169</td><td>184</td></tr>\n",
       "\t<tr><td> 7 </td><td>183</td><td>180</td></tr>\n",
       "\t<tr><td> 8 </td><td>185</td><td>186</td></tr>\n",
       "\t<tr><td> 9 </td><td>164</td><td>168</td></tr>\n",
       "\t<tr><td>10 </td><td>172</td><td>174</td></tr>\n",
       "</tbody>\n",
       "</table>\n"
      ],
      "text/latex": [
       "\\begin{tabular}{r|lll}\n",
       " ï..Family & Mid.parent & Offspring\\\\\n",
       "\\hline\n",
       "\t  1  & 175 & 180\\\\\n",
       "\t  2  & 174 & 173\\\\\n",
       "\t  3  & 176 & 175\\\\\n",
       "\t  4  & 177 & 183\\\\\n",
       "\t  5  & 179 & 178\\\\\n",
       "\t  6  & 169 & 184\\\\\n",
       "\t  7  & 183 & 180\\\\\n",
       "\t  8  & 185 & 186\\\\\n",
       "\t  9  & 164 & 168\\\\\n",
       "\t 10  & 172 & 174\\\\\n",
       "\\end{tabular}\n"
      ],
      "text/markdown": [
       "\n",
       "| ï..Family | Mid.parent | Offspring |\n",
       "|---|---|---|\n",
       "|  1  | 175 | 180 |\n",
       "|  2  | 174 | 173 |\n",
       "|  3  | 176 | 175 |\n",
       "|  4  | 177 | 183 |\n",
       "|  5  | 179 | 178 |\n",
       "|  6  | 169 | 184 |\n",
       "|  7  | 183 | 180 |\n",
       "|  8  | 185 | 186 |\n",
       "|  9  | 164 | 168 |\n",
       "| 10  | 172 | 174 |\n",
       "\n"
      ],
      "text/plain": [
       "   ï..Family Mid.parent Offspring\n",
       "1   1        175        180      \n",
       "2   2        174        173      \n",
       "3   3        176        175      \n",
       "4   4        177        183      \n",
       "5   5        179        178      \n",
       "6   6        169        184      \n",
       "7   7        183        180      \n",
       "8   8        185        186      \n",
       "9   9        164        168      \n",
       "10 10        172        174      "
      ]
     },
     "metadata": {},
     "output_type": "display_data"
    }
   ],
   "source": [
    "heights<-read.csv('data.csv',header=T)\n",
    "heights"
   ]
  },
  {
   "cell_type": "code",
   "execution_count": 5,
   "metadata": {},
   "outputs": [
    {
     "data": {
      "image/png": "[encoded data removed]",
      "text/plain": [
       "Plot with title \"Histogram of heights$Mid.parent\""
      ]
     },
     "metadata": {},
     "output_type": "display_data"
    },
    {
     "data": {
      "image/png": "[encoded data removed]",
      "text/plain": [
       "Plot with title \"Histogram of heights$Offspring\""
      ]
     },
     "metadata": {},
     "output_type": "display_data"
    }
   ],
   "source": [
    "hist(heights$Mid.parent,nclass=5)\n",
    "hist(heights$Offspring)"
   ]
  },
  {
   "cell_type": "markdown",
   "metadata": {},
   "source": [
    "These are our plots"
   ]
  }
 ],
 "metadata": {
  "kernelspec": {
   "display_name": "R",
   "language": "R",
   "name": "ir"
  },
  "language_info": {
   "codemirror_mode": "r",
   "file_extension": ".r",
   "mimetype": "text/x-r-source",
   "name": "R",
   "pygments_lexer": "r",
   "version": "3.5.1"
  }
 },
 "nbformat": 4,
 "nbformat_minor": 2
}
